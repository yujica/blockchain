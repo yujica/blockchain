{
  "nbformat": 4,
  "nbformat_minor": 0,
  "metadata": {
    "colab": {
      "provenance": [],
      "mount_file_id": "16nDB8u5SyJnt3rjiJ66gfeDX8vTMUIV2",
      "authorship_tag": "ABX9TyOiaK2jLNvu+fSjiy58i6k6",
      "include_colab_link": true
    },
    "kernelspec": {
      "name": "python3",
      "display_name": "Python 3"
    },
    "language_info": {
      "name": "python"
    }
  },
  "cells": [
    {
      "cell_type": "markdown",
      "metadata": {
        "id": "view-in-github",
        "colab_type": "text"
      },
      "source": [
        "<a href=\"https://colab.research.google.com/github/yujica/blockchain/blob/master/NQ100_2.ipynb\" target=\"_parent\"><img src=\"https://colab.research.google.com/assets/colab-badge.svg\" alt=\"Open In Colab\"/></a>"
      ]
    },
    {
      "cell_type": "code",
      "source": [
        "pip install yfinance"
      ],
      "metadata": {
        "colab": {
          "base_uri": "https://localhost:8080/"
        },
        "id": "NNPsW1oOlEF9",
        "outputId": "47bd6ab0-f46d-47c9-d8c4-ce249450c5cd"
      },
      "execution_count": 32,
      "outputs": [
        {
          "output_type": "stream",
          "name": "stdout",
          "text": [
            "Looking in indexes: https://pypi.org/simple, https://us-python.pkg.dev/colab-wheels/public/simple/\n",
            "Requirement already satisfied: yfinance in /usr/local/lib/python3.9/dist-packages (0.2.13)\n",
            "Requirement already satisfied: html5lib>=1.1 in /usr/local/lib/python3.9/dist-packages (from yfinance) (1.1)\n",
            "Requirement already satisfied: lxml>=4.9.1 in /usr/local/lib/python3.9/dist-packages (from yfinance) (4.9.2)\n",
            "Requirement already satisfied: appdirs>=1.4.4 in /usr/local/lib/python3.9/dist-packages (from yfinance) (1.4.4)\n",
            "Requirement already satisfied: multitasking>=0.0.7 in /usr/local/lib/python3.9/dist-packages (from yfinance) (0.0.11)\n",
            "Requirement already satisfied: pytz>=2022.5 in /usr/local/lib/python3.9/dist-packages (from yfinance) (2022.7.1)\n",
            "Requirement already satisfied: cryptography>=3.3.2 in /usr/local/lib/python3.9/dist-packages (from yfinance) (39.0.2)\n",
            "Requirement already satisfied: requests>=2.26 in /usr/local/lib/python3.9/dist-packages (from yfinance) (2.27.1)\n",
            "Requirement already satisfied: numpy>=1.16.5 in /usr/local/lib/python3.9/dist-packages (from yfinance) (1.22.4)\n",
            "Requirement already satisfied: frozendict>=2.3.4 in /usr/local/lib/python3.9/dist-packages (from yfinance) (2.3.6)\n",
            "Requirement already satisfied: pandas>=1.3.0 in /usr/local/lib/python3.9/dist-packages (from yfinance) (1.4.4)\n",
            "Requirement already satisfied: beautifulsoup4>=4.11.1 in /usr/local/lib/python3.9/dist-packages (from yfinance) (4.11.2)\n",
            "Requirement already satisfied: soupsieve>1.2 in /usr/local/lib/python3.9/dist-packages (from beautifulsoup4>=4.11.1->yfinance) (2.4)\n",
            "Requirement already satisfied: cffi>=1.12 in /usr/local/lib/python3.9/dist-packages (from cryptography>=3.3.2->yfinance) (1.15.1)\n",
            "Requirement already satisfied: six>=1.9 in /usr/local/lib/python3.9/dist-packages (from html5lib>=1.1->yfinance) (1.16.0)\n",
            "Requirement already satisfied: webencodings in /usr/local/lib/python3.9/dist-packages (from html5lib>=1.1->yfinance) (0.5.1)\n",
            "Requirement already satisfied: python-dateutil>=2.8.1 in /usr/local/lib/python3.9/dist-packages (from pandas>=1.3.0->yfinance) (2.8.2)\n",
            "Requirement already satisfied: idna<4,>=2.5 in /usr/local/lib/python3.9/dist-packages (from requests>=2.26->yfinance) (3.4)\n",
            "Requirement already satisfied: urllib3<1.27,>=1.21.1 in /usr/local/lib/python3.9/dist-packages (from requests>=2.26->yfinance) (1.26.15)\n",
            "Requirement already satisfied: certifi>=2017.4.17 in /usr/local/lib/python3.9/dist-packages (from requests>=2.26->yfinance) (2022.12.7)\n",
            "Requirement already satisfied: charset-normalizer~=2.0.0 in /usr/local/lib/python3.9/dist-packages (from requests>=2.26->yfinance) (2.0.12)\n",
            "Requirement already satisfied: pycparser in /usr/local/lib/python3.9/dist-packages (from cffi>=1.12->cryptography>=3.3.2->yfinance) (2.21)\n"
          ]
        }
      ]
    },
    {
      "cell_type": "code",
      "execution_count": 33,
      "metadata": {
        "colab": {
          "base_uri": "https://localhost:8080/"
        },
        "id": "e8MBuL5jyVf0",
        "outputId": "8dd19d04-412c-444a-8470-3fe3e6ec8472"
      },
      "outputs": [
        {
          "output_type": "stream",
          "name": "stdout",
          "text": [
            "[*********************100%***********************]  101 of 101 completed\n"
          ]
        }
      ],
      "source": [
        "\n",
        "#import sys\n",
        "#sys.path.append('/content/drive/MyDrive/module')\n",
        "\n",
        "import pandas as pd\n",
        "import yfinance as yf\n",
        "import numpy as np\n",
        "\n",
        "ticker_df = pd.read_html(\"https://en.wikipedia.org/wiki/Nasdaq-100\")[4]\n",
        "\n",
        "tickers = ticker_df.Ticker.to_list()\n",
        "\n",
        "df = yf.download(tickers,start='2020-01-01')['Adj Close']\n",
        "\n",
        "df = df.dropna(axis=1)\n",
        "\n",
        "# 以下の命令で過去12ヶ月累積リターンを出す。\n",
        "def get_rolling_ret(df,n):\n",
        "  return df.rolling(n).apply(np.prod)\n",
        "\n",
        "# resampl('M')で持ってきた月間変化率に1を足した数字を変数「mtl」（月間変化率）として定義\n",
        "mtl = (df.pct_change()+1)[1:].resample('M').prod()\n",
        "\n",
        "# 12ヶ月リターン、6ヶ月リターン、3ヶ月リターン、1ヶ月リターンを「ret_12」「ret_6」「ret_3」「ret_1」として一行で定義。期間を変えたい時はここをいじればいい\n",
        "ret_12, ret_6, ret_3, ret_1 = get_rolling_ret(mtl,12),get_rolling_ret(mtl,6),get_rolling_ret(mtl,3),get_rolling_ret(mtl,1)\n",
        "\n",
        "# wtl定義\n",
        "wtl = (df.pct_change()+1)[1:].resample('W').prod()\n",
        "\n",
        "# 1週リターンを「ret_w1」として定義\n",
        "ret_w1 = get_rolling_ret(wtl,1)\n",
        "\n",
        "#top_50 = ret_12.loc['2022-03-31'].nlargest(50)\n",
        "#top_30 = ret_6.loc['2022-03-31', top_50].nlargest(30).index\n",
        "#top_10 = ret_3.loc['2022-03-31', top_30].nlargest(10).index\n",
        "\n",
        "# top_10から過去1ヶ月累積リターン上位5銘柄をultratop_5として定義\n",
        "#ultratop_5 = ret_1.loc['2023-02-28', top_10].nlargest(5).index\n",
        "#ultratop_5\n",
        "\n",
        "# 過去3ヶ月累積リターン上位10銘柄を抽出\n",
        "def get_top(date):\n",
        "  top_50 = ret_12.loc[date].nlargest(50).index\n",
        "  top_30 = ret_6.loc[date, top_50].nlargest(30).index\n",
        "  top_10 = ret_3.loc[date, top_30].nlargest(10).index\n",
        "  return top_10\n",
        "\n",
        "# 過去1ヶ月累積リターン上位5銘柄を抽出\n",
        "def get_ultratop(date):\n",
        "  top_50 = ret_12.loc[date].nlargest(50).index\n",
        "  top_30 = ret_6.loc[date, top_50].nlargest(30).index\n",
        "  top_10 = ret_3.loc[date, top_30].nlargest(10).index\n",
        "  ultratop_5 = ret_1.loc[date, top_10].nlargest(5).index\n",
        "  return ultratop_5\n",
        "\n",
        "# 週間リターン上位3銘柄を抽出\n",
        "def get_superultratop(date):\n",
        "  top_50 = ret_12.loc[date].nlargest(50).index\n",
        "  top_30 = ret_6.loc[date, top_50].nlargest(30).index\n",
        "  top_10 = ret_3.loc[date, top_30].nlargest(10).index\n",
        "  ultratop_3 = ret_1.loc[date, top_10].nlargest(3).index\n",
        "  return ultratop_3\n"
      ]
    },
    {
      "cell_type": "code",
      "source": [
        "#過去3ヶ月累積リターン上位10銘柄を抽出\n",
        "get_top('2023-02-28')"
      ],
      "metadata": {
        "colab": {
          "base_uri": "https://localhost:8080/"
        },
        "id": "bqNLUS69cLSK",
        "outputId": "bf0677f2-51b2-4e4f-8da6-2b4ee8ad3f0c"
      },
      "execution_count": 34,
      "outputs": [
        {
          "output_type": "execute_result",
          "data": {
            "text/plain": [
              "Index(['SGEN', 'NVDA', 'MELI', 'BKNG', 'ODFL', 'CDNS', 'FISV', 'AVGO', 'ADI',\n",
              "       'PDD'],\n",
              "      dtype='object')"
            ]
          },
          "metadata": {},
          "execution_count": 34
        }
      ]
    },
    {
      "cell_type": "code",
      "source": [
        "#過去1ヶ月累積リターン上位5銘柄を抽出\n",
        "get_ultratop('2023-2-28')"
      ],
      "metadata": {
        "colab": {
          "base_uri": "https://localhost:8080/"
        },
        "id": "f2xwX-Hwbill",
        "outputId": "7578c5ef-7e28-4689-d09b-d4d536b3aab5"
      },
      "execution_count": 35,
      "outputs": [
        {
          "output_type": "execute_result",
          "data": {
            "text/plain": [
              "Index(['SGEN', 'NVDA', 'FISV', 'ADI', 'CDNS'], dtype='object')"
            ]
          },
          "metadata": {},
          "execution_count": 35
        }
      ]
    },
    {
      "cell_type": "code",
      "source": [
        "# 週間リターン上位3銘柄を抽出\n",
        "get_superultratop('2023-2-28')"
      ],
      "metadata": {
        "colab": {
          "base_uri": "https://localhost:8080/"
        },
        "id": "tG_yhGRCfHeC",
        "outputId": "fbba0429-4e2c-4ed3-bbdc-28a0de83bf60"
      },
      "execution_count": 36,
      "outputs": [
        {
          "output_type": "execute_result",
          "data": {
            "text/plain": [
              "Index(['SGEN', 'NVDA', 'FISV'], dtype='object')"
            ]
          },
          "metadata": {},
          "execution_count": 36
        }
      ]
    }
  ]
}